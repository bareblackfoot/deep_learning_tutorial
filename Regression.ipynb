{
 "cells": [
  {
   "cell_type": "markdown",
   "metadata": {},
   "source": [
    "# Practice Day 1. Regression"
   ]
  },
  {
   "cell_type": "markdown",
   "metadata": {},
   "source": [
    "### Basic Python Expressions"
   ]
  },
  {
   "cell_type": "code",
   "execution_count": null,
   "metadata": {},
   "outputs": [],
   "source": [
    "# basic operation\n",
    "a = 1\n",
    "b = 2\n",
    "c = 3\n",
    "d = a + b * c\n",
    "\n",
    "print(a)\n",
    "print(b)\n",
    "print(c)\n",
    "print(d)\n",
    "\n",
    "print(\"----------------\")\n",
    "\n",
    "print(\"Q : what is d?\")\n",
    "print(\"A : d is {}\".format(d))"
   ]
  },
  {
   "cell_type": "code",
   "execution_count": null,
   "metadata": {},
   "outputs": [],
   "source": [
    "# list\n",
    "my_list = [1,2,3]\n",
    "my_list.append(4)\n",
    "my_list += [5,6]\n",
    "\n",
    "print(my_list)\n",
    "print(my_list[0])\n",
    "print(len(my_list))"
   ]
  },
  {
   "cell_type": "code",
   "execution_count": null,
   "metadata": {},
   "outputs": [],
   "source": [
    "# dictionary\n",
    "my_dict =  {'a':1, 'b':2, 'c':3}\n",
    "my_dict['d']=4\n",
    "\n",
    "print(my_dict)\n",
    "print(my_dict['a'])\n",
    "print(my_dict.keys())\n",
    "print(my_dict.values())"
   ]
  },
  {
   "cell_type": "code",
   "execution_count": null,
   "metadata": {},
   "outputs": [],
   "source": [
    "# if statement\n",
    "\n",
    "k=3\n",
    "\n",
    "if k==3:\n",
    "    print(\"k is 3\")\n",
    "elif k==4:\n",
    "    print(\"k is 4\")\n",
    "else:\n",
    "    print(\"k is neither 3 nor 4\")"
   ]
  },
  {
   "cell_type": "code",
   "execution_count": null,
   "metadata": {},
   "outputs": [],
   "source": [
    "# for-loop statement\n",
    "\n",
    "for i in range(5):\n",
    "    print(2*i)\n",
    "\n",
    "print(\"----------------\")\n",
    "\n",
    "my_iter_list = [0,1,2,3,4]\n",
    "\n",
    "for i in my_iter_list:\n",
    "    print(2*i)"
   ]
  },
  {
   "cell_type": "code",
   "execution_count": null,
   "metadata": {},
   "outputs": [],
   "source": [
    "# while-loop statement\n",
    "\n",
    "t=0\n",
    "\n",
    "while (t < 5):\n",
    "    print(2*t)\n",
    "    t+=1"
   ]
  },
  {
   "cell_type": "code",
   "execution_count": null,
   "metadata": {},
   "outputs": [],
   "source": [
    "# numpy library\n",
    "\n",
    "import numpy as np\n",
    "\n",
    "a = np.asarray([1,2,3,4])\n",
    "b = np.asarray([3,2,1,0])\n",
    "\n",
    "print(a)\n",
    "print(b)\n",
    "print(a.shape)\n",
    "print(b.shape)\n",
    "\n",
    "print(\"----------------\")\n",
    "\n",
    "print(np.sum(a))\n",
    "print(np.mean(a))\n",
    "print(np.max(a))\n",
    "print(np.min(a))\n",
    "\n",
    "print(\"----------------\")\n",
    "\n",
    "print(a + 2)\n",
    "print(a * 2)\n",
    "print(a ** 2)\n",
    "\n",
    "print(\"----------------\")\n",
    "\n",
    "print(a + b)\n",
    "print(a - b)\n",
    "print(a * b)"
   ]
  },
  {
   "cell_type": "markdown",
   "metadata": {},
   "source": [
    "### Load Data"
   ]
  },
  {
   "cell_type": "code",
   "execution_count": null,
   "metadata": {},
   "outputs": [],
   "source": [
    "file = open('regression_data.txt','r')  # open the file with read-only\n",
    "text = file.readlines()  # read all line texts\n",
    "file.close()  # close the file\n",
    "\n",
    "x_data = []\n",
    "y_data = []\n",
    "\n",
    "# convert to float\n",
    "for s in text:\n",
    "    data = s.split()\n",
    "    x_data.append(float(data[0]))\n",
    "    y_data.append(float(data[1]))    "
   ]
  },
  {
   "cell_type": "markdown",
   "metadata": {},
   "source": [
    "### Plot data"
   ]
  },
  {
   "cell_type": "code",
   "execution_count": null,
   "metadata": {
    "scrolled": false
   },
   "outputs": [],
   "source": [
    "%matplotlib notebook\n",
    "import matplotlib.pyplot as plt\n",
    "\n",
    "plt.figure(1)\n",
    "plt.plot(x_data, y_data, 'ro') # plot data\n",
    "\n",
    "plt.xlabel('x-axis')  \n",
    "plt.ylabel('y-axis')\n",
    "plt.title('My data')\n",
    "\n",
    "plt.show()"
   ]
  },
  {
   "cell_type": "markdown",
   "metadata": {},
   "source": [
    "### Closed Form Linear Regression"
   ]
  },
  {
   "cell_type": "code",
   "execution_count": null,
   "metadata": {
    "scrolled": true
   },
   "outputs": [],
   "source": [
    "# convert to numpy-array\n",
    "x_data = np.asarray(x_data)\n",
    "y_data = np.asarray(y_data)\n",
    "\n",
    "N = len(x_data) # the size of data\n",
    "\n",
    "#TODO\n",
    "sigma_x = \n",
    "sigma_x_square = \n",
    "sigma_y = \n",
    "sigma_xy = \n",
    "\n",
    "w1 = \n",
    "w0 = \n",
    "\n",
    "print ('w1 : {}'.format(w1))\n",
    "print ('w0 : {}'.format(w0))"
   ]
  },
  {
   "cell_type": "code",
   "execution_count": null,
   "metadata": {
    "scrolled": false
   },
   "outputs": [],
   "source": [
    "plt.figure(2)\n",
    "\n",
    "plt.plot(x_data, y_data, 'ro')\n",
    "plt.plot(x_data, (w1 * x_data + w0), 'b')\n",
    "\n",
    "plt.xlabel('x-axis')  \n",
    "plt.ylabel('y-axis')\n",
    "plt.title('Closed Form Regression')\n",
    "\n",
    "plt.show()"
   ]
  },
  {
   "cell_type": "markdown",
   "metadata": {},
   "source": [
    "### Linear Regression with Gradient Descent"
   ]
  },
  {
   "cell_type": "code",
   "execution_count": null,
   "metadata": {},
   "outputs": [],
   "source": [
    "import tensorflow as tf\n",
    "\n",
    "# define variables\n",
    "w = tf.Variable(tf.random_uniform([1],-0.1,0.1))\n",
    "b = tf.Variable(tf.zeros([1]))\n",
    "\n",
    "# define placeholder\n",
    "x_data_placeholder = tf.placeholder('float32', shape=x_data.shape)\n",
    "y_data_placeholder = tf.placeholder('float32', shape=y_data.shape)\n",
    "\n",
    "# define loss function\n",
    "y_regression = w * x_data_placeholder + b\n",
    "\n",
    "loss = tf.reduce_mean(tf.square(y_regression - y_data))\n",
    "\n",
    "# define optimizer\n",
    "optimizer = tf.train.GradientDescentOptimizer(learning_rate=0.7)\n",
    "train = optimizer.minimize(loss)\n",
    "\n",
    "# initialize variables\n",
    "init = tf.global_variables_initializer()\n",
    "\n",
    "sess = tf.Session()\n",
    "sess.run(init)"
   ]
  },
  {
   "cell_type": "code",
   "execution_count": null,
   "metadata": {},
   "outputs": [],
   "source": [
    "# see initial variables\n",
    "my_feed_dict = {x_data_placeholder:x_data, y_data_placeholder:y_data}\n",
    "\n",
    "initial_w, initial_b = sess.run([w,b], feed_dict=my_feed_dict)\n",
    "\n",
    "print(\"Initial variables  w : {}, b : {}\".format(initial_w, initial_b)) "
   ]
  },
  {
   "cell_type": "code",
   "execution_count": null,
   "metadata": {
    "scrolled": false
   },
   "outputs": [],
   "source": [
    "plt.figure(3)\n",
    "plt.xlabel('x-axis')  \n",
    "plt.ylabel('y-axis')\n",
    "plt.title('Linear Regression with Gradient Descent')\n",
    "\n",
    "plt.plot(x_data, y_data, 'ro')\n",
    "plt.plot(x_data, (initial_w * x_data + initial_b), label='initial')\n",
    "\n",
    "# training step\n",
    "\n",
    "for i in range(1,6):\n",
    "    sess.run() #TODO : 'train' operator\n",
    "    current_w, current_b, current_loss = sess.run() #TODO : variables and losses\n",
    "    print(\"iteration : {}, w : {}, b : {}, loss : {}\".format(i,current_w, current_b, current_loss))\n",
    "    \n",
    "    # display\n",
    "    plt.plot(x_data, (current_w * x_data + current_b), label='iter : {}'.format(i))\n",
    "        \n",
    "plt.legend()\n",
    "\n",
    "plt.show()"
   ]
  }
 ],
 "metadata": {
  "celltoolbar": "Raw Cell Format",
  "kernelspec": {
   "display_name": "Python 2",
   "language": "python",
   "name": "python2"
  },
  "language_info": {
   "codemirror_mode": {
    "name": "ipython",
    "version": 2
   },
   "file_extension": ".py",
   "mimetype": "text/x-python",
   "name": "python",
   "nbconvert_exporter": "python",
   "pygments_lexer": "ipython2",
   "version": "2.7.12"
  }
 },
 "nbformat": 4,
 "nbformat_minor": 2
}
