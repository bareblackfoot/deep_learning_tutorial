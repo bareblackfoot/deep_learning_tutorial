{
 "cells": [
  {
   "cell_type": "markdown",
   "metadata": {},
   "source": [
    "# Practice Day 1. Regression"
   ]
  },
  {
   "cell_type": "markdown",
   "metadata": {},
   "source": [
    "### Load File"
   ]
  },
  {
   "cell_type": "code",
   "execution_count": null,
   "metadata": {},
   "outputs": [],
   "source": [
    "file = open('data/regression_data.txt','r')  # open the file with read-only\n",
    "text = file.readlines()  # read all line texts\n",
    "file.close()  # close the file\n",
    "\n",
    "x_data = []\n",
    "y_data = []\n",
    "\n",
    "# convert to float\n",
    "for s in text:\n",
    "    data = s.split()\n",
    "    x_data.append(float(data[0]))\n",
    "    y_data.append(float(data[1]))    "
   ]
  },
  {
   "cell_type": "markdown",
   "metadata": {},
   "source": [
    "### Save File"
   ]
  },
  {
   "cell_type": "code",
   "execution_count": null,
   "metadata": {
    "scrolled": true
   },
   "outputs": [],
   "source": [
    "file = open('data/saved_data.txt','w')  # open the file with write mode\n",
    "\n",
    "file.write(\"this is saved file \\n\")\n",
    "\n",
    "for i in range(5):\n",
    "    file.write(\"data : {} \\n\".format(i))\n",
    "\n",
    "file.close()  # close the file"
   ]
  },
  {
   "cell_type": "markdown",
   "metadata": {},
   "source": [
    "### Numpy"
   ]
  },
  {
   "cell_type": "code",
   "execution_count": null,
   "metadata": {
    "scrolled": true
   },
   "outputs": [],
   "source": [
    "import numpy as np\n",
    "\n",
    "a = np.asarray([1,2,3,4])\n",
    "b = np.asarray([3,2,1,0])\n",
    "\n",
    "print(a)\n",
    "print(b)\n",
    "print(a.shape)\n",
    "print(b.shape)\n",
    "\n",
    "print(\"----------------\")\n",
    "\n",
    "print(np.sum(a))\n",
    "print(np.mean(a))\n",
    "print(np.max(a))\n",
    "print(np.min(a))\n",
    "\n",
    "print(\"----------------\")\n",
    "\n",
    "print(a + 2)\n",
    "print(a * 2)\n",
    "print(a ** 2)\n",
    "\n",
    "print(\"----------------\")\n",
    "\n",
    "print(a + b)\n",
    "print(a - b)\n",
    "print(a * b)"
   ]
  },
  {
   "cell_type": "markdown",
   "metadata": {},
   "source": [
    "### File I/O with Numpy"
   ]
  },
  {
   "cell_type": "code",
   "execution_count": null,
   "metadata": {},
   "outputs": [],
   "source": [
    "# save npy file\n",
    "np.save(\"x_data.npy\",x_data)\n",
    "\n",
    "# load npy file\n",
    "x_data = np.load('x_data.npy')"
   ]
  },
  {
   "cell_type": "markdown",
   "metadata": {},
   "source": [
    "### Plot data"
   ]
  },
  {
   "cell_type": "code",
   "execution_count": null,
   "metadata": {
    "scrolled": false
   },
   "outputs": [],
   "source": [
    "%matplotlib notebook\n",
    "import matplotlib.pyplot as plt\n",
    "\n",
    "plt.figure(1)\n",
    "plt.plot(x_data, y_data, 'ro') # plot data\n",
    "\n",
    "plt.xlabel('x-axis')  \n",
    "plt.ylabel('y-axis')\n",
    "plt.title('My data')\n",
    "\n",
    "plt.show()"
   ]
  },
  {
   "cell_type": "markdown",
   "metadata": {},
   "source": [
    "### Closed Form Linear Regression"
   ]
  },
  {
   "cell_type": "code",
   "execution_count": null,
   "metadata": {
    "scrolled": true
   },
   "outputs": [],
   "source": [
    "# convert to numpy-array\n",
    "x_data = np.asarray(x_data)\n",
    "y_data = np.asarray(y_data)\n",
    "\n",
    "N = len(x_data) # the size of data\n",
    "\n",
    "sigma_x = \n",
    "sigma_x_square = \n",
    "sigma_y = \n",
    "sigma_xy = \n",
    "\n",
    "w1 = \n",
    "w0 = \n",
    "\n",
    "print ('w1 : {}'.format(w1))\n",
    "print ('w0 : {}'.format(w0))"
   ]
  },
  {
   "cell_type": "code",
   "execution_count": null,
   "metadata": {
    "scrolled": false
   },
   "outputs": [],
   "source": [
    "plt.figure(2)\n",
    "\n",
    "y_regression = w1 * x_data + w0\n",
    "\n",
    "plt.plot(x_data, y_data, 'ro')\n",
    "plt.plot(x_data, y_regression, 'b')\n",
    "\n",
    "plt.xlabel('x-axis')  \n",
    "plt.ylabel('y-axis')\n",
    "plt.title('Closed Form Regression')\n",
    "\n",
    "plt.show()"
   ]
  },
  {
   "cell_type": "markdown",
   "metadata": {},
   "source": [
    "### Linear Regression with Gradient Descent"
   ]
  },
  {
   "cell_type": "code",
   "execution_count": null,
   "metadata": {},
   "outputs": [],
   "source": [
    "import tensorflow as tf\n",
    "\n",
    "# define constant\n",
    "c = tf.constant(0)\n",
    "\n",
    "# define variables (not initalized)\n",
    "w = tf.Variable(tf.random_uniform([1],-0.1,0.1))\n",
    "b = tf.Variable(tf.zeros([1]))\n",
    "\n",
    "# define placeholder\n",
    "x_data_placeholder = tf.placeholder('float32', shape=x_data.shape)\n",
    "y_data_placeholder = tf.placeholder('float32', shape=y_data.shape)\n",
    "\n",
    "# define loss function\n",
    "y_regression = w * x_data_placeholder + b\n",
    "\n",
    "loss = # Hint : use tf.reduce_mean, tf.square\n",
    "\n",
    "# define optimizer\n",
    "train = tf.train.GradientDescentOptimizer(learning_rate=0.7).minimize(loss)\n",
    "\n",
    "# initialize variables\n",
    "init = tf.global_variables_initializer()\n",
    "\n",
    "sess = tf.Session()\n",
    "sess.run(init)  # run variable initializer : now you can use tensorflow variables"
   ]
  },
  {
   "cell_type": "code",
   "execution_count": null,
   "metadata": {},
   "outputs": [],
   "source": [
    "# see initial variables\n",
    "my_feed_dict = {x_data_placeholder:x_data, y_data_placeholder:y_data}\n",
    "\n",
    "initial_w, initial_b = sess.run([w,b], feed_dict=my_feed_dict)\n",
    "\n",
    "print(\"Initial variables  w : {}, b : {}\".format(initial_w, initial_b)) "
   ]
  },
  {
   "cell_type": "code",
   "execution_count": null,
   "metadata": {
    "scrolled": false
   },
   "outputs": [],
   "source": [
    "plt.figure(3)\n",
    "plt.xlabel('x-axis')  \n",
    "plt.ylabel('y-axis')\n",
    "plt.title('Linear Regression with Gradient Descent')\n",
    "\n",
    "plt.plot(x_data, y_data, 'ro')\n",
    "plt.plot(x_data, (initial_w * x_data + initial_b), label='initial')\n",
    "\n",
    "# training step\n",
    "\n",
    "for i in range(1,6):\n",
    "    sess.run(    )  # train operator\n",
    "    current_w, current_b, current_loss = sess.run(    )# variable and loss \n",
    "    print(\"iteration : {}, w : {}, b : {}, loss : {}\".format(i,current_w, current_b, current_loss))\n",
    "    \n",
    "    # display\n",
    "    plt.plot(x_data, (current_w * x_data + current_b), label='iter : {}'.format(i))\n",
    "        \n",
    "plt.legend()\n",
    "\n",
    "plt.show()"
   ]
  }
 ],
 "metadata": {
  "celltoolbar": "Raw Cell Format",
  "kernelspec": {
   "display_name": "Python 3",
   "language": "python",
   "name": "python3"
  },
  "language_info": {
   "codemirror_mode": {
    "name": "ipython",
    "version": 3
   },
   "file_extension": ".py",
   "mimetype": "text/x-python",
   "name": "python",
   "nbconvert_exporter": "python",
   "pygments_lexer": "ipython3",
   "version": "3.6.6"
  }
 },
 "nbformat": 4,
 "nbformat_minor": 2
}
